{
  "nbformat": 4,
  "nbformat_minor": 0,
  "metadata": {
    "colab": {
      "name": "Michael_Kolek_Unit_1_Buildweek",
      "provenance": [],
      "collapsed_sections": [],
      "authorship_tag": "ABX9TyObFOZDhxe/zPwtZZFr0PcK",
      "include_colab_link": true
    },
    "kernelspec": {
      "name": "python3",
      "display_name": "Python 3"
    }
  },
  "cells": [
    {
      "cell_type": "markdown",
      "metadata": {
        "id": "view-in-github",
        "colab_type": "text"
      },
      "source": [
        "<a href=\"https://colab.research.google.com/github/InqM/BuildWeek1/blob/master/Michael_Kolek_Unit_1_Buildweek.ipynb\" target=\"_parent\"><img src=\"https://colab.research.google.com/assets/colab-badge.svg\" alt=\"Open In Colab\"/></a>"
      ]
    },
    {
      "cell_type": "code",
      "metadata": {
        "id": "l2gSGAshlOw-",
        "colab_type": "code",
        "colab": {
          "base_uri": "https://localhost:8080/",
          "height": 1000
        },
        "outputId": "5e04a071-6cd3-4460-c4ff-884fbf0e0a07"
      },
      "source": [
        "import pandas as pd\n",
        "\n",
        "df = pd.read_csv(\"https://raw.githubusercontent.com/InqM/BuildWeek1/master/TI4_Game_Log.csv\")\n",
        "\n",
        "print(df.shape)\n",
        "print(df.isnull().sum())\n",
        "print(df.info())\n",
        "\n",
        "df.head()"
      ],
      "execution_count": 1,
      "outputs": [
        {
          "output_type": "stream",
          "text": [
            "(5006, 21)\n",
            "Timestamp              0\n",
            "Player Count           0\n",
            "Playtime (Hours)     162\n",
            "Winning Race           0\n",
            "Winner Exp Level     112\n",
            "Winner VP              0\n",
            "2nd Race               0\n",
            "2nd Exp Level        117\n",
            "2nd Race VP            0\n",
            "3rd Race               0\n",
            "3rd Exp Level        120\n",
            "3rd Race VP            0\n",
            "4th Race             906\n",
            "4th Exp Level        988\n",
            "4th Race VP          918\n",
            "5th Race            2418\n",
            "5th Exp Level       2470\n",
            "5th Race VP         2422\n",
            "6th Race            3519\n",
            "6th Exp Level       3535\n",
            "6th Race VP         3524\n",
            "dtype: int64\n",
            "<class 'pandas.core.frame.DataFrame'>\n",
            "RangeIndex: 5006 entries, 0 to 5005\n",
            "Data columns (total 21 columns):\n",
            " #   Column            Non-Null Count  Dtype  \n",
            "---  ------            --------------  -----  \n",
            " 0   Timestamp         5006 non-null   object \n",
            " 1   Player Count      5006 non-null   int64  \n",
            " 2   Playtime (Hours)  4844 non-null   object \n",
            " 3   Winning Race      5006 non-null   object \n",
            " 4   Winner Exp Level  4894 non-null   object \n",
            " 5   Winner VP         5006 non-null   int64  \n",
            " 6   2nd Race          5006 non-null   object \n",
            " 7   2nd Exp Level     4889 non-null   object \n",
            " 8   2nd Race VP       5006 non-null   int64  \n",
            " 9   3rd Race          5006 non-null   object \n",
            " 10  3rd Exp Level     4886 non-null   object \n",
            " 11  3rd Race VP       5006 non-null   int64  \n",
            " 12  4th Race          4100 non-null   object \n",
            " 13  4th Exp Level     4018 non-null   object \n",
            " 14  4th Race VP       4088 non-null   float64\n",
            " 15  5th Race          2588 non-null   object \n",
            " 16  5th Exp Level     2536 non-null   object \n",
            " 17  5th Race VP       2584 non-null   float64\n",
            " 18  6th Race          1487 non-null   object \n",
            " 19  6th Exp Level     1471 non-null   object \n",
            " 20  6th Race VP       1482 non-null   float64\n",
            "dtypes: float64(3), int64(4), object(14)\n",
            "memory usage: 821.4+ KB\n",
            "None\n"
          ],
          "name": "stdout"
        },
        {
          "output_type": "execute_result",
          "data": {
            "text/html": [
              "<div>\n",
              "<style scoped>\n",
              "    .dataframe tbody tr th:only-of-type {\n",
              "        vertical-align: middle;\n",
              "    }\n",
              "\n",
              "    .dataframe tbody tr th {\n",
              "        vertical-align: top;\n",
              "    }\n",
              "\n",
              "    .dataframe thead th {\n",
              "        text-align: right;\n",
              "    }\n",
              "</style>\n",
              "<table border=\"1\" class=\"dataframe\">\n",
              "  <thead>\n",
              "    <tr style=\"text-align: right;\">\n",
              "      <th></th>\n",
              "      <th>Timestamp</th>\n",
              "      <th>Player Count</th>\n",
              "      <th>Playtime (Hours)</th>\n",
              "      <th>Winning Race</th>\n",
              "      <th>Winner Exp Level</th>\n",
              "      <th>Winner VP</th>\n",
              "      <th>2nd Race</th>\n",
              "      <th>2nd Exp Level</th>\n",
              "      <th>2nd Race VP</th>\n",
              "      <th>3rd Race</th>\n",
              "      <th>3rd Exp Level</th>\n",
              "      <th>3rd Race VP</th>\n",
              "      <th>4th Race</th>\n",
              "      <th>4th Exp Level</th>\n",
              "      <th>4th Race VP</th>\n",
              "      <th>5th Race</th>\n",
              "      <th>5th Exp Level</th>\n",
              "      <th>5th Race VP</th>\n",
              "      <th>6th Race</th>\n",
              "      <th>6th Exp Level</th>\n",
              "      <th>6th Race VP</th>\n",
              "    </tr>\n",
              "  </thead>\n",
              "  <tbody>\n",
              "    <tr>\n",
              "      <th>0</th>\n",
              "      <td>12/29/2017 19:16:05</td>\n",
              "      <td>3</td>\n",
              "      <td>6</td>\n",
              "      <td>L1Z1X Mindnet</td>\n",
              "      <td>Beginner</td>\n",
              "      <td>10</td>\n",
              "      <td>Mentak Coalition</td>\n",
              "      <td>Beginner</td>\n",
              "      <td>9</td>\n",
              "      <td>Barony of Letnev</td>\n",
              "      <td>Beginner</td>\n",
              "      <td>9</td>\n",
              "      <td>NaN</td>\n",
              "      <td>NaN</td>\n",
              "      <td>NaN</td>\n",
              "      <td>NaN</td>\n",
              "      <td>NaN</td>\n",
              "      <td>NaN</td>\n",
              "      <td>NaN</td>\n",
              "      <td>NaN</td>\n",
              "      <td>NaN</td>\n",
              "    </tr>\n",
              "    <tr>\n",
              "      <th>1</th>\n",
              "      <td>11/19/2017 8:17:20</td>\n",
              "      <td>6</td>\n",
              "      <td>NaN</td>\n",
              "      <td>Federation of Sol</td>\n",
              "      <td>NaN</td>\n",
              "      <td>11</td>\n",
              "      <td>Yin Brotherhood</td>\n",
              "      <td>NaN</td>\n",
              "      <td>8</td>\n",
              "      <td>Emirates of Hacan</td>\n",
              "      <td>NaN</td>\n",
              "      <td>7</td>\n",
              "      <td>Ghosts of Creuss</td>\n",
              "      <td>NaN</td>\n",
              "      <td>7.0</td>\n",
              "      <td>Arborec</td>\n",
              "      <td>NaN</td>\n",
              "      <td>5.0</td>\n",
              "      <td>Barony of Letnev</td>\n",
              "      <td>NaN</td>\n",
              "      <td>5.0</td>\n",
              "    </tr>\n",
              "    <tr>\n",
              "      <th>2</th>\n",
              "      <td>11/26/2017 8:18:26</td>\n",
              "      <td>5</td>\n",
              "      <td>NaN</td>\n",
              "      <td>Universities of Jol-Nar</td>\n",
              "      <td>NaN</td>\n",
              "      <td>10</td>\n",
              "      <td>Federation of Sol</td>\n",
              "      <td>NaN</td>\n",
              "      <td>9</td>\n",
              "      <td>Arborec</td>\n",
              "      <td>NaN</td>\n",
              "      <td>7</td>\n",
              "      <td>L1Z1X Mindnet</td>\n",
              "      <td>NaN</td>\n",
              "      <td>6.0</td>\n",
              "      <td>Xxcha Kingdom</td>\n",
              "      <td>NaN</td>\n",
              "      <td>5.0</td>\n",
              "      <td>NaN</td>\n",
              "      <td>NaN</td>\n",
              "      <td>NaN</td>\n",
              "    </tr>\n",
              "    <tr>\n",
              "      <th>3</th>\n",
              "      <td>12/3/2017 8:19:36</td>\n",
              "      <td>5</td>\n",
              "      <td>NaN</td>\n",
              "      <td>Universities of Jol-Nar</td>\n",
              "      <td>NaN</td>\n",
              "      <td>10</td>\n",
              "      <td>Mentak Coalition</td>\n",
              "      <td>NaN</td>\n",
              "      <td>8</td>\n",
              "      <td>Yssaril Tribes</td>\n",
              "      <td>NaN</td>\n",
              "      <td>6</td>\n",
              "      <td>Yin Brotherhood</td>\n",
              "      <td>NaN</td>\n",
              "      <td>5.0</td>\n",
              "      <td>Naalu Collective</td>\n",
              "      <td>NaN</td>\n",
              "      <td>4.0</td>\n",
              "      <td>NaN</td>\n",
              "      <td>NaN</td>\n",
              "      <td>NaN</td>\n",
              "    </tr>\n",
              "    <tr>\n",
              "      <th>4</th>\n",
              "      <td>12/3/2017 8:23:57</td>\n",
              "      <td>6</td>\n",
              "      <td>NaN</td>\n",
              "      <td>Federation of Sol</td>\n",
              "      <td>NaN</td>\n",
              "      <td>11</td>\n",
              "      <td>Naalu Collective</td>\n",
              "      <td>NaN</td>\n",
              "      <td>8</td>\n",
              "      <td>L1Z1X Mindnet</td>\n",
              "      <td>NaN</td>\n",
              "      <td>7</td>\n",
              "      <td>Nekro Virus</td>\n",
              "      <td>NaN</td>\n",
              "      <td>7.0</td>\n",
              "      <td>Ghosts of Creuss</td>\n",
              "      <td>NaN</td>\n",
              "      <td>7.0</td>\n",
              "      <td>Winnu</td>\n",
              "      <td>NaN</td>\n",
              "      <td>6.0</td>\n",
              "    </tr>\n",
              "  </tbody>\n",
              "</table>\n",
              "</div>"
            ],
            "text/plain": [
              "             Timestamp  Player Count  ... 6th Exp Level 6th Race VP\n",
              "0  12/29/2017 19:16:05             3  ...           NaN         NaN\n",
              "1   11/19/2017 8:17:20             6  ...           NaN         5.0\n",
              "2   11/26/2017 8:18:26             5  ...           NaN         NaN\n",
              "3    12/3/2017 8:19:36             5  ...           NaN         NaN\n",
              "4    12/3/2017 8:23:57             6  ...           NaN         6.0\n",
              "\n",
              "[5 rows x 21 columns]"
            ]
          },
          "metadata": {
            "tags": []
          },
          "execution_count": 1
        }
      ]
    },
    {
      "cell_type": "code",
      "metadata": {
        "id": "1EECXelEqIAj",
        "colab_type": "code",
        "colab": {}
      },
      "source": [
        "df['Playtime (Hours)'] = df['Playtime (Hours)'].replace('12+','12.5')\n",
        "df['Playtime (Hours)'] = df['Playtime (Hours)'].astype(float)\n",
        "\n",
        "not_too_long = df['Winner VP'] <= 12\n",
        "not_too_short = df['Winner VP'] >= 10\n",
        "\n",
        "df = df[not_too_long]\n",
        "df = df[not_too_short]"
      ],
      "execution_count": 12,
      "outputs": []
    },
    {
      "cell_type": "markdown",
      "metadata": {
        "id": "VOYyDCeE5pFd",
        "colab_type": "text"
      },
      "source": [
        "## Playtime Based on Player Count"
      ]
    },
    {
      "cell_type": "code",
      "metadata": {
        "id": "KKG4K9wYzXIs",
        "colab_type": "code",
        "colab": {
          "base_uri": "https://localhost:8080/",
          "height": 101
        },
        "outputId": "c34e8c5c-d435-48fc-a81c-ffffaf07432e"
      },
      "source": [
        "hours_per_player = pd.crosstab(df['Player Count'],df['Playtime (Hours)'])\n",
        "hours_per_player['mean'] = 0\n",
        "\n",
        "for col in hours_per_player.columns:\n",
        "  if col is not 'mean':\n",
        "    hours_per_player['mean'] = hours_per_player['mean'] + (hours_per_player[col]*float(col))\n",
        "\n",
        "hpp = hours_per_player['mean']/df['Player Count'].value_counts()\n",
        "hpp"
      ],
      "execution_count": 3,
      "outputs": [
        {
          "output_type": "execute_result",
          "data": {
            "text/plain": [
              "3    5.370245\n",
              "4    6.770992\n",
              "5    7.525126\n",
              "6    8.297619\n",
              "dtype: float64"
            ]
          },
          "metadata": {
            "tags": []
          },
          "execution_count": 3
        }
      ]
    },
    {
      "cell_type": "code",
      "metadata": {
        "id": "khTGUlhWyMG7",
        "colab_type": "code",
        "colab": {
          "base_uri": "https://localhost:8080/",
          "height": 295
        },
        "outputId": "8a38a87f-45ca-4a3a-a3bc-9eeeefcb33a4"
      },
      "source": [
        "import matplotlib.pyplot as plt\n",
        "import numpy as np\n",
        "\n",
        "fig, ax = plt.subplots()\n",
        "plt.plot(hpp.index, hpp)\n",
        "\n",
        "plt.locator_params(axis = 'x', nbins=4)\n",
        "plt.locator_params(axis = 'y', nbins=8)\n",
        "\n",
        "\n",
        "ax.set_facecolor('#F0F0F0')\n",
        "plt.grid(axis = 'y')\n",
        "\n",
        "ax.set_title('Game Length Based on Number of Players')\n",
        "ax.set_xlabel('Number of Players')\n",
        "ax.set_ylabel('Game Length in Hours')\n",
        "plt.show()"
      ],
      "execution_count": 4,
      "outputs": [
        {
          "output_type": "display_data",
          "data": {
            "image/png": "[encoded data removed]",
            "text/plain": [
              "<Figure size 432x288 with 1 Axes>"
            ]
          },
          "metadata": {
            "tags": [],
            "needs_background": "light"
          }
        }
      ]
    },
    {
      "cell_type": "markdown",
      "metadata": {
        "id": "wtvCBFze55Wg",
        "colab_type": "text"
      },
      "source": [
        "## Playtime Based on Experience Levels"
      ]
    },
    {
      "cell_type": "code",
      "metadata": {
        "id": "1M8p5JffvLlD",
        "colab_type": "code",
        "colab": {
          "base_uri": "https://localhost:8080/",
          "height": 269
        },
        "outputId": "b5735a5d-7819-4370-8d51-d9a85971e29f"
      },
      "source": [
        "df['Number of Beginners'] = 0\n",
        "df['Number of Intermediate'] = 0\n",
        "df['Number of Advanced'] = 0\n",
        "\n",
        "col = 4\n",
        "while col < 20:\n",
        "  df.iloc[:, col] = df.iloc[:, col].fillna('')\n",
        "  condition = df.iloc[:, col] == 'Beginner'\n",
        "  df['Number of Beginners'][condition] = df['Number of Beginners'] + 1\n",
        "  condition = df.iloc[:, col] == 'Intermediate'\n",
        "  df['Number of Intermediate'][condition] = df['Number of Intermediate'] + 1\n",
        "  condition = df.iloc[:, col] == 'Advanced'\n",
        "  df['Number of Advanced'][condition] = df['Number of Advanced'] + 1\n",
        "  col = col + 3"
      ],
      "execution_count": 5,
      "outputs": [
        {
          "output_type": "stream",
          "text": [
            "/usr/local/lib/python3.6/dist-packages/ipykernel_launcher.py:9: SettingWithCopyWarning: \n",
            "A value is trying to be set on a copy of a slice from a DataFrame\n",
            "\n",
            "See the caveats in the documentation: https://pandas.pydata.org/pandas-docs/stable/user_guide/indexing.html#returning-a-view-versus-a-copy\n",
            "  if __name__ == '__main__':\n",
            "/usr/local/lib/python3.6/dist-packages/ipykernel_launcher.py:11: SettingWithCopyWarning: \n",
            "A value is trying to be set on a copy of a slice from a DataFrame\n",
            "\n",
            "See the caveats in the documentation: https://pandas.pydata.org/pandas-docs/stable/user_guide/indexing.html#returning-a-view-versus-a-copy\n",
            "  # This is added back by InteractiveShellApp.init_path()\n",
            "/usr/local/lib/python3.6/dist-packages/ipykernel_launcher.py:13: SettingWithCopyWarning: \n",
            "A value is trying to be set on a copy of a slice from a DataFrame\n",
            "\n",
            "See the caveats in the documentation: https://pandas.pydata.org/pandas-docs/stable/user_guide/indexing.html#returning-a-view-versus-a-copy\n",
            "  del sys.path[0]\n"
          ],
          "name": "stderr"
        }
      ]
    },
    {
      "cell_type": "code",
      "metadata": {
        "id": "uyyl3fLDFW8c",
        "colab_type": "code",
        "colab": {
          "base_uri": "https://localhost:8080/",
          "height": 235
        },
        "outputId": "beefb57c-8f1a-49cc-d8f9-a52c5000f4aa"
      },
      "source": [
        "df['exp_color'] = (df['Number of Advanced'] - df['Number of Beginners'])/df['Player Count'] + df['Player Count']*10 + 1\n",
        "condition = df['Number of Beginners'] + df['Number of Intermediate'] + df['Number of Advanced'] != df['Player Count']\n",
        "df['exp_color'][condition] = 'NaN'\n",
        "\n",
        "color_df = pd.crosstab(df['exp_color'],df['Playtime (Hours)'])\n",
        "color_df['mean'] = 0\n",
        "\n",
        "for col in color_df.columns:\n",
        "  if col is not 'mean':\n",
        "    color_df['mean'] = color_df['mean'] + (color_df[col]*float(col))\n",
        "\n",
        "color_df['mean'] = color_df['mean']/df['exp_color'].value_counts()\n",
        "color_df['player count'] = color_df.index\n",
        "\n",
        "color_df.dropna\n",
        "color_df.drop(color_df.tail(1).index,inplace=True)\n",
        "\n",
        "color_df['red'] = color_df['player count'].astype(float)%10-1\n",
        "color_df['green'] = color_df['red']*-1\n",
        "more_advanced = color_df['red'] >= 0\n",
        "less_advanced = color_df['green'] >= 0\n",
        "color_df['red'][more_advanced] = 0\n",
        "color_df['green'][less_advanced] = 0\n",
        "color_df['red'] = color_df['red'] + 1\n",
        "color_df['green'] = color_df['green'] + 1\n",
        "color_df['blue'] = 0\n",
        "\n",
        "final_color = color_df[['red','green','blue']].to_numpy()\n",
        "\n",
        "color_df['player count'] = (color_df['player count']/10).astype(int)"
      ],
      "execution_count": 6,
      "outputs": [
        {
          "output_type": "stream",
          "text": [
            "/usr/local/lib/python3.6/dist-packages/ipykernel_launcher.py:3: SettingWithCopyWarning: \n",
            "A value is trying to be set on a copy of a slice from a DataFrame\n",
            "\n",
            "See the caveats in the documentation: https://pandas.pydata.org/pandas-docs/stable/user_guide/indexing.html#returning-a-view-versus-a-copy\n",
            "  This is separate from the ipykernel package so we can avoid doing imports until\n",
            "/usr/local/lib/python3.6/dist-packages/ipykernel_launcher.py:22: SettingWithCopyWarning: \n",
            "A value is trying to be set on a copy of a slice from a DataFrame\n",
            "\n",
            "See the caveats in the documentation: https://pandas.pydata.org/pandas-docs/stable/user_guide/indexing.html#returning-a-view-versus-a-copy\n",
            "/usr/local/lib/python3.6/dist-packages/ipykernel_launcher.py:23: SettingWithCopyWarning: \n",
            "A value is trying to be set on a copy of a slice from a DataFrame\n",
            "\n",
            "See the caveats in the documentation: https://pandas.pydata.org/pandas-docs/stable/user_guide/indexing.html#returning-a-view-versus-a-copy\n"
          ],
          "name": "stderr"
        }
      ]
    },
    {
      "cell_type": "code",
      "metadata": {
        "id": "l_v8ZFpb5Dfu",
        "colab_type": "code",
        "colab": {}
      },
      "source": [
        ""
      ],
      "execution_count": 6,
      "outputs": []
    },
    {
      "cell_type": "code",
      "metadata": {
        "id": "MWpRuxxoQzsb",
        "colab_type": "code",
        "colab": {
          "base_uri": "https://localhost:8080/",
          "height": 295
        },
        "outputId": "e527ad22-f2a6-4cbb-912a-770ce5b15020"
      },
      "source": [
        "from matplotlib.lines import Line2D\n",
        "\n",
        "fig, ax = plt.subplots()\n",
        "\n",
        "scatter = ax.scatter(color_df['player count'], color_df['mean'], marker='o', c = final_color)\n",
        "plt.locator_params(axis = 'x', nbins=4)\n",
        "plt.locator_params(axis = 'y', nbins=12)\n",
        "\n",
        "ax.set_facecolor('#F0F0F0')\n",
        "plt.grid(axis = 'y')\n",
        "\n",
        "ax.set_title('Average Game Length Based on Experience and Number of Players')\n",
        "ax.set_xlabel('Number of Players')\n",
        "ax.set_ylabel('Game Length in Hours')\n",
        "\n",
        "legend_entries = [Line2D([0], [0], color=[1,0,0], lw=4, label='Advanced'),\n",
        "                  Line2D([0], [0], color=[1,1,0], lw=4, label='Intermediate'),\n",
        "                  Line2D([0], [0], color=[0,1,0], lw=4, label='Beginner')]\n",
        "ax.legend(handles=legend_entries)\n",
        "\n",
        "plt.show()"
      ],
      "execution_count": 10,
      "outputs": [
        {
          "output_type": "display_data",
          "data": {
            "image/png": "[encoded data removed]",
            "text/plain": [
              "<Figure size 432x288 with 1 Axes>"
            ]
          },
          "metadata": {
            "tags": [],
            "needs_background": "light"
          }
        }
      ]
    },
    {
      "cell_type": "code",
      "metadata": {
        "id": "poP0932pkyEF",
        "colab_type": "code",
        "colab": {
          "base_uri": "https://localhost:8080/",
          "height": 504
        },
        "outputId": "60af6a37-7a04-4c43-f54a-06ce8a51c468"
      },
      "source": [
        "pd.crosstab(df['Winning Race'], df['Winner Exp Level'])\n",
        "\n",
        "print(df['Winner Exp Level'].value_counts())\n",
        "print(df['Number of Beginners'].value_counts())\n",
        "print(df['Number of Intermediate'].value_counts())\n",
        "print(df['Number of Advanced'].value_counts())"
      ],
      "execution_count": 8,
      "outputs": [
        {
          "output_type": "stream",
          "text": [
            "Intermediate    1740\n",
            "Beginner        1481\n",
            "Advanced        1059\n",
            "                 105\n",
            "Name: Winner Exp Level, dtype: int64\n",
            "0    1064\n",
            "1     873\n",
            "2     787\n",
            "3     690\n",
            "4     509\n",
            "5     285\n",
            "6     177\n",
            "Name: Number of Beginners, dtype: int64\n",
            "0    1447\n",
            "1     873\n",
            "2     724\n",
            "3     656\n",
            "4     422\n",
            "5     172\n",
            "6      91\n",
            "Name: Number of Intermediate, dtype: int64\n",
            "0    2850\n",
            "1     548\n",
            "2     419\n",
            "3     305\n",
            "4     173\n",
            "5      57\n",
            "6      33\n",
            "Name: Number of Advanced, dtype: int64\n"
          ],
          "name": "stdout"
        }
      ]
    },
    {
      "cell_type": "markdown",
      "metadata": {
        "id": "0_zN0skZ0cnM",
        "colab_type": "text"
      },
      "source": [
        "##Extra to return to later"
      ]
    },
    {
      "cell_type": "code",
      "metadata": {
        "id": "_g3OJpq_0Xs4",
        "colab_type": "code",
        "colab": {
          "base_uri": "https://localhost:8080/",
          "height": 101
        },
        "outputId": "04c6d237-9094-49d5-d8f6-c85b0c89b6ec"
      },
      "source": [
        "df['all_exp'] = df['Number of Beginners'].astype(str) + ' ' + df['Number of Intermediate'].astype(str) + ' ' + df['Number of Advanced'].astype(str) + ' '\n",
        "\n",
        "condition = df['Number of Beginners'] + df['Number of Intermediate'] + df['Number of Advanced'] != df['Player Count']\n",
        "df['all_exp'][condition] = 'NaN'\n",
        "\n",
        "playtime_df = pd.crosstab(df['all_exp'],df['Playtime (Hours)'])\n",
        "\n",
        "playtime_df['mean'] = 0\n",
        "\n",
        "for col in playtime_df.columns:\n",
        "  if col is not 'mean':\n",
        "    playtime_df['mean'] = playtime_df['mean'] + (playtime_df[col]*float(col))\n",
        "\n",
        "\n",
        "#Just learned .sort_index() isn't necessary because the index is the entry name and not a number.\n",
        "playtime_df['mean'] = playtime_df['mean']/df['all_exp'].value_counts()\n",
        "#Drops the NaN column\n",
        "\n",
        "playtime_df['vector'] = playtime_df.index\n",
        "playtime_df['vector'] = playtime_df['vector'] + playtime_df['mean'].astype(str)\n",
        "playtime_df = playtime_df.dropna()\n",
        "\n",
        "playtime_string_matrix = playtime_df['vector'].to_numpy()\n",
        "playtime_matrix = np.empty((74,4))\n",
        "m = 0\n",
        "\n",
        "for i in playtime_string_matrix:\n",
        "  if m != 74:\n",
        "    playtime_matrix[m] = np.fromstring(i, dtype=float, sep=' ')\n",
        "  m = m+1\n",
        "\n",
        "playtime_df.drop(playtime_df.tail(1).index,inplace=True)"
      ],
      "execution_count": 9,
      "outputs": [
        {
          "output_type": "stream",
          "text": [
            "/usr/local/lib/python3.6/dist-packages/ipykernel_launcher.py:4: SettingWithCopyWarning: \n",
            "A value is trying to be set on a copy of a slice from a DataFrame\n",
            "\n",
            "See the caveats in the documentation: https://pandas.pydata.org/pandas-docs/stable/user_guide/indexing.html#returning-a-view-versus-a-copy\n",
            "  after removing the cwd from sys.path.\n"
          ],
          "name": "stderr"
        }
      ]
    }
  ]
}